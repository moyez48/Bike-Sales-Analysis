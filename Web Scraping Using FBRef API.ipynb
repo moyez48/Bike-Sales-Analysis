{
 "cells": [
  {
   "cell_type": "code",
   "execution_count": 3,
   "id": "9700178e",
   "metadata": {},
   "outputs": [
    {
     "name": "stdout",
     "output_type": "stream",
     "text": [
      "API Key for FBref: qx2NapUqHYrdam1cEDkCuRSCw61nUet0XTeaCTGKbGM\n"
     ]
    }
   ],
   "source": [
    "import requests\n",
    "\n",
    "response = requests.post('https://fbrapi.com/generate_api_key')\n",
    "api_key = response.json()['api_key']\n",
    "print(\"API Key for FBref:\", api_key)\n",
    "# Script to generate an API key from fbrapi.com"
   ]
  },
  {
   "cell_type": "code",
   "execution_count": 9,
   "id": "4ecad269",
   "metadata": {},
   "outputs": [
    {
     "data": {
      "text/html": [
       "<div>\n",
       "<style scoped>\n",
       "    .dataframe tbody tr th:only-of-type {\n",
       "        vertical-align: middle;\n",
       "    }\n",
       "\n",
       "    .dataframe tbody tr th {\n",
       "        vertical-align: top;\n",
       "    }\n",
       "\n",
       "    .dataframe thead th {\n",
       "        text-align: right;\n",
       "    }\n",
       "</style>\n",
       "<table border=\"1\" class=\"dataframe\">\n",
       "  <thead>\n",
       "    <tr style=\"text-align: right;\">\n",
       "      <th></th>\n",
       "      <th>season_id</th>\n",
       "      <th>competition_name</th>\n",
       "      <th>#_squads</th>\n",
       "      <th>champion</th>\n",
       "      <th>top_scorer</th>\n",
       "    </tr>\n",
       "  </thead>\n",
       "  <tbody>\n",
       "    <tr>\n",
       "      <th>0</th>\n",
       "      <td>2025-2026</td>\n",
       "      <td>Premier League</td>\n",
       "      <td>20</td>\n",
       "      <td></td>\n",
       "      <td>{'player': 'Erling Haaland', 'goals_scored': 8}</td>\n",
       "    </tr>\n",
       "    <tr>\n",
       "      <th>1</th>\n",
       "      <td>2024-2025</td>\n",
       "      <td>Premier League</td>\n",
       "      <td>20</td>\n",
       "      <td>Liverpool</td>\n",
       "      <td>{'player': 'Mohamed Salah', 'goals_scored': 29}</td>\n",
       "    </tr>\n",
       "    <tr>\n",
       "      <th>2</th>\n",
       "      <td>2023-2024</td>\n",
       "      <td>Premier League</td>\n",
       "      <td>20</td>\n",
       "      <td>Manchester City</td>\n",
       "      <td>{'player': 'Erling Haaland', 'goals_scored': 27}</td>\n",
       "    </tr>\n",
       "    <tr>\n",
       "      <th>3</th>\n",
       "      <td>2022-2023</td>\n",
       "      <td>Premier League</td>\n",
       "      <td>20</td>\n",
       "      <td>Manchester City</td>\n",
       "      <td>{'player': 'Erling Haaland', 'goals_scored': 36}</td>\n",
       "    </tr>\n",
       "    <tr>\n",
       "      <th>4</th>\n",
       "      <td>2021-2022</td>\n",
       "      <td>Premier League</td>\n",
       "      <td>20</td>\n",
       "      <td>Manchester City</td>\n",
       "      <td>{'player': ['Son Heung min', 'Mohamed Salah'],...</td>\n",
       "    </tr>\n",
       "  </tbody>\n",
       "</table>\n",
       "</div>"
      ],
      "text/plain": [
       "   season_id competition_name  #_squads         champion  \\\n",
       "0  2025-2026   Premier League        20                    \n",
       "1  2024-2025   Premier League        20        Liverpool   \n",
       "2  2023-2024   Premier League        20  Manchester City   \n",
       "3  2022-2023   Premier League        20  Manchester City   \n",
       "4  2021-2022   Premier League        20  Manchester City   \n",
       "\n",
       "                                          top_scorer  \n",
       "0    {'player': 'Erling Haaland', 'goals_scored': 8}  \n",
       "1    {'player': 'Mohamed Salah', 'goals_scored': 29}  \n",
       "2   {'player': 'Erling Haaland', 'goals_scored': 27}  \n",
       "3   {'player': 'Erling Haaland', 'goals_scored': 36}  \n",
       "4  {'player': ['Son Heung min', 'Mohamed Salah'],...  "
      ]
     },
     "execution_count": 9,
     "metadata": {},
     "output_type": "execute_result"
    }
   ],
   "source": [
    "import requests\n",
    "\n",
    "url = \"https://fbrapi.com/league-seasons\"\n",
    "params = {\"league_id\": \"9\"}\n",
    "headers = {\"X-API-Key\": \"qx2NapUqHYrdam1cEDkCuRSCw61nUet0XTeaCTGKbGM\"}\n",
    "response = requests.get(url, params=params, headers=headers)\n",
    "seasons = response.json()['data']\n",
    "seasons  # This will show all available season IDs\n",
    "seasons= pd.DataFrame(seasons)\n",
    "seasons.head()"
   ]
  },
  {
   "cell_type": "code",
   "execution_count": null,
   "id": "a62199e0",
   "metadata": {},
   "outputs": [],
   "source": [
    "import time \n",
    "season_id = \"2023-2024\"  # Example, replace with your actual season ID\n",
    "url = \"https://fbrapi.com/teams\"\n",
    "params = {\"season_id\": season_id}\n",
    "headers = {\"X-API-Key\": \"YOUR_API_KEY\"}\n",
    "response = requests.get(url, params=params, headers=headers)\n",
    "teams = response.json()['data']\n",
    "df_teams = pd.DataFrame(teams)\n",
    "print(df_teams)\n",
    "time.sleep(3) \n"
   ]
  }
 ],
 "metadata": {
  "kernelspec": {
   "display_name": "Python 3",
   "language": "python",
   "name": "python3"
  },
  "language_info": {
   "codemirror_mode": {
    "name": "ipython",
    "version": 3
   },
   "file_extension": ".py",
   "mimetype": "text/x-python",
   "name": "python",
   "nbconvert_exporter": "python",
   "pygments_lexer": "ipython3",
   "version": "3.13.7"
  }
 },
 "nbformat": 4,
 "nbformat_minor": 5
}
